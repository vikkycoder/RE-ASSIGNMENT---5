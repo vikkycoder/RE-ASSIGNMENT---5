{
 "cells": [
  {
   "cell_type": "markdown",
   "id": "7809cdba-66fc-4596-9231-8f3eed44f4cd",
   "metadata": {},
   "source": [
    "Q1, Create a vehicle class with an init method having instance variables as name_of_vehicle, max_speed\n",
    "and average_of_vehicle."
   ]
  },
  {
   "cell_type": "code",
   "execution_count": 6,
   "id": "ea512045-238e-4d8b-9fdf-907b3228e49e",
   "metadata": {},
   "outputs": [],
   "source": [
    "class vehicle_class:\n",
    "    \n",
    "    def __init__(self,name_of_vehicle,max_speed,average_of_speed):\n",
    "        self.name_of_vehicle = name_of_vehicle\n",
    "        self.max_speed = max_speed\n",
    "        self.average_of_speed = average_of_speed\n",
    "        \n",
    "    def return_vehicle_details(self):\n",
    "        return self.name_of_vehicle,self.max_speed,self.average_of_speed   "
   ]
  },
  {
   "cell_type": "code",
   "execution_count": 7,
   "id": "a5fc09d3-127c-4e8b-974f-d06a5c14dcb6",
   "metadata": {},
   "outputs": [],
   "source": [
    "vc = vehicle_class(\"maruti suzuki\",140,40)"
   ]
  },
  {
   "cell_type": "code",
   "execution_count": 8,
   "id": "52d26206-6259-41d3-99d7-29b91cba235a",
   "metadata": {},
   "outputs": [
    {
     "data": {
      "text/plain": [
       "'maruti suzuki'"
      ]
     },
     "execution_count": 8,
     "metadata": {},
     "output_type": "execute_result"
    }
   ],
   "source": [
    "vc.name_of_vehicle"
   ]
  },
  {
   "cell_type": "code",
   "execution_count": 9,
   "id": "0dc59689-9d01-4875-8ce0-bee391c48104",
   "metadata": {},
   "outputs": [
    {
     "data": {
      "text/plain": [
       "40"
      ]
     },
     "execution_count": 9,
     "metadata": {},
     "output_type": "execute_result"
    }
   ],
   "source": [
    "vc.average_of_speed"
   ]
  },
  {
   "cell_type": "code",
   "execution_count": 10,
   "id": "5f69b979-e77d-4903-9220-fd9c907b72de",
   "metadata": {},
   "outputs": [
    {
     "data": {
      "text/plain": [
       "140"
      ]
     },
     "execution_count": 10,
     "metadata": {},
     "output_type": "execute_result"
    }
   ],
   "source": [
    "vc.max_speed"
   ]
  },
  {
   "cell_type": "code",
   "execution_count": 11,
   "id": "cce4483e-0bf1-43c3-970f-9398f3877158",
   "metadata": {},
   "outputs": [
    {
     "data": {
      "text/plain": [
       "('maruti suzuki', 140, 40)"
      ]
     },
     "execution_count": 11,
     "metadata": {},
     "output_type": "execute_result"
    }
   ],
   "source": [
    "vc.return_vehicle_details()"
   ]
  },
  {
   "cell_type": "markdown",
   "id": "ebb56c2d-5beb-4801-b1ef-d77451a43fc9",
   "metadata": {},
   "source": [
    "Q2. Create a child class car from the vehicle class created in Que 1, which will inherit the vehicle class.\n",
    "Create a method named seating_capacity which takes capacity as an argument and returns the name of\n",
    "the vehicle and its seating capacity."
   ]
  },
  {
   "cell_type": "code",
   "execution_count": 16,
   "id": "48e45889-04dc-43cb-bcdd-6f1118f464a4",
   "metadata": {},
   "outputs": [
    {
     "name": "stdout",
     "output_type": "stream",
     "text": [
      "maruti suzuki has a seating capacity 4\n"
     ]
    }
   ],
   "source": [
    "class car(vehicle_class):\n",
    "    \n",
    "    def seating_capacity(self,capacity):\n",
    "        return f\"{self.name_of_vehicle} has a seating capacity {capacity}\"\n",
    "    \n",
    "carr = car(\"maruti suzuki\",140,40)\n",
    "print(carr.seating_capacity(4))\n",
    "        "
   ]
  },
  {
   "cell_type": "markdown",
   "id": "23b5841e-dbb1-4584-86ed-beb399ca2a89",
   "metadata": {},
   "source": [
    "Q3. What is multiple inheritance? Write a python code to demonstrate multiple inheritance."
   ]
  },
  {
   "cell_type": "markdown",
   "id": "a67ff811-d05d-455e-bcef-b06365d4281e",
   "metadata": {},
   "source": [
    "ANS..If child class is inherit more than one class and this child class is derived from multiple classes so this is multiple inheritance."
   ]
  },
  {
   "cell_type": "code",
   "execution_count": 17,
   "id": "b32dcb61-32e0-480a-bf0c-3e7197f2481c",
   "metadata": {},
   "outputs": [],
   "source": [
    "class test:\n",
    "    def test_class(self):\n",
    "         return \"this is my class\""
   ]
  },
  {
   "cell_type": "code",
   "execution_count": 18,
   "id": "64c20a45-937a-471a-bd28-5059b9e0582e",
   "metadata": {},
   "outputs": [],
   "source": [
    "class test1:\n",
    "    def test_class1(self):\n",
    "        return \"this is my first class\""
   ]
  },
  {
   "cell_type": "code",
   "execution_count": 19,
   "id": "63961bb1-13fb-4b29-8bd0-e254037d7562",
   "metadata": {},
   "outputs": [],
   "source": [
    "class test2(test,test1):\n",
    "    pass"
   ]
  },
  {
   "cell_type": "code",
   "execution_count": 20,
   "id": "3faa16e6-2a6c-4375-b9bf-c1c74827c08d",
   "metadata": {},
   "outputs": [],
   "source": [
    "obj_test2 = test2()"
   ]
  },
  {
   "cell_type": "code",
   "execution_count": 21,
   "id": "ebae5d13-862b-4a56-a13b-3fa402d65dc3",
   "metadata": {},
   "outputs": [
    {
     "data": {
      "text/plain": [
       "'this is my class'"
      ]
     },
     "execution_count": 21,
     "metadata": {},
     "output_type": "execute_result"
    }
   ],
   "source": [
    "obj_test2.test_class()"
   ]
  },
  {
   "cell_type": "code",
   "execution_count": 22,
   "id": "bcef6ee3-d8c7-4fd5-a4ac-a19a7fe6f4e9",
   "metadata": {},
   "outputs": [
    {
     "data": {
      "text/plain": [
       "'this is my first class'"
      ]
     },
     "execution_count": 22,
     "metadata": {},
     "output_type": "execute_result"
    }
   ],
   "source": [
    "obj_test2.test_class1()"
   ]
  },
  {
   "cell_type": "markdown",
   "id": "c1d863ac-f1fe-49d1-9ee2-dcc4811d23c3",
   "metadata": {},
   "source": [
    "Q4. What are getter and setter in python? Create a class and create a getter and a setter method in this\n",
    "class."
   ]
  },
  {
   "cell_type": "markdown",
   "id": "28572991-666d-46a0-8aa7-362f5ed2be9e",
   "metadata": {},
   "source": [
    "ANS..Getter is a mathod that allow you to access the attribute in given class and Setter is also a method that allow you to set or mutate the value of the attribute in the class."
   ]
  },
  {
   "cell_type": "code",
   "execution_count": 110,
   "id": "7895f77e-5887-49ed-b6b0-ed98535a2365",
   "metadata": {},
   "outputs": [],
   "source": [
    "class describe:\n",
    "    \n",
    "    def __init__(self,name,age,status):\n",
    "        self.name = name\n",
    "        self.age = age\n",
    "        self.status = status\n",
    "        \n",
    "    def set_age(self,age):\n",
    "        self.age = age \n",
    "        \n",
    "    def get_age(self):\n",
    "        return self.age"
   ]
  },
  {
   "cell_type": "code",
   "execution_count": 111,
   "id": "061890a4-dbe2-44aa-ab34-e4dd7c369b12",
   "metadata": {},
   "outputs": [],
   "source": [
    "decr = describe(\"vikky\",28,\"single\")"
   ]
  },
  {
   "cell_type": "code",
   "execution_count": 112,
   "id": "71e1dc35-2564-4d6e-86d5-106b109606ca",
   "metadata": {},
   "outputs": [
    {
     "data": {
      "text/plain": [
       "28"
      ]
     },
     "execution_count": 112,
     "metadata": {},
     "output_type": "execute_result"
    }
   ],
   "source": [
    "decr.age"
   ]
  },
  {
   "cell_type": "code",
   "execution_count": 113,
   "id": "da1fce2e-56db-43b4-86cf-02fb178887ba",
   "metadata": {},
   "outputs": [],
   "source": [
    "decr.set_age(23)"
   ]
  },
  {
   "cell_type": "code",
   "execution_count": 114,
   "id": "61c56634-e938-4157-aa46-d4adfa06b7a5",
   "metadata": {},
   "outputs": [
    {
     "data": {
      "text/plain": [
       "23"
      ]
     },
     "execution_count": 114,
     "metadata": {},
     "output_type": "execute_result"
    }
   ],
   "source": [
    "decr.get_age()"
   ]
  },
  {
   "cell_type": "code",
   "execution_count": 115,
   "id": "f84985a7-8b7c-49b8-9c56-f66d2259321d",
   "metadata": {},
   "outputs": [
    {
     "data": {
      "text/plain": [
       "23"
      ]
     },
     "execution_count": 115,
     "metadata": {},
     "output_type": "execute_result"
    }
   ],
   "source": [
    "decr.age"
   ]
  },
  {
   "cell_type": "markdown",
   "id": "a9948600-90e1-4f6f-a8a7-c3d425db4557",
   "metadata": {},
   "source": [
    "Q5.What is method overriding in python? Write a python code to demonstrate method overriding."
   ]
  },
  {
   "cell_type": "markdown",
   "id": "74e0e3c6-2212-4ae7-9765-75d486059ec8",
   "metadata": {},
   "source": [
    "Ans.when we write function method where chiild class inherite the parent class and when we override child class function so this is called mothod overriding in python."
   ]
  },
  {
   "cell_type": "code",
   "execution_count": 25,
   "id": "c7bf9ff1-7f64-4be4-8e0f-60b390fa24b1",
   "metadata": {},
   "outputs": [],
   "source": [
    "class A:\n",
    "    def parent_A(self):\n",
    "        print(\"this is my parent class\")"
   ]
  },
  {
   "cell_type": "code",
   "execution_count": 33,
   "id": "59557834-cfa5-4001-a2e3-ef61b02fc3f4",
   "metadata": {},
   "outputs": [],
   "source": [
    "class B(A):\n",
    "    def child_B(self):\n",
    "        super().parent_A()\n",
    "        print(\"this is my child class\")"
   ]
  },
  {
   "cell_type": "code",
   "execution_count": 34,
   "id": "3509dc3c-5e07-49aa-9f74-1b4fbeb30d7f",
   "metadata": {},
   "outputs": [
    {
     "ename": "NameError",
     "evalue": "name 'obj' is not defined",
     "output_type": "error",
     "traceback": [
      "\u001b[0;31m---------------------------------------------------------------------------\u001b[0m",
      "\u001b[0;31mNameError\u001b[0m                                 Traceback (most recent call last)",
      "Cell \u001b[0;32mIn[34], line 2\u001b[0m\n\u001b[1;32m      1\u001b[0m obj_B \u001b[38;5;241m=\u001b[39m B()\n\u001b[0;32m----> 2\u001b[0m \u001b[43mobj\u001b[49m\u001b[38;5;241m.\u001b[39mparent_A()\n",
      "\u001b[0;31mNameError\u001b[0m: name 'obj' is not defined"
     ]
    }
   ],
   "source": [
    "obj_B = B()"
   ]
  },
  {
   "cell_type": "code",
   "execution_count": 31,
   "id": "a141e327-9a1e-4801-a10f-ad4f4fe384d0",
   "metadata": {},
   "outputs": [
    {
     "name": "stdout",
     "output_type": "stream",
     "text": [
      "this is my child class\n"
     ]
    }
   ],
   "source": [
    "obj_B.child_B()"
   ]
  },
  {
   "cell_type": "code",
   "execution_count": 32,
   "id": "02400e25-8616-4372-9b5c-50b61d4374e8",
   "metadata": {},
   "outputs": [
    {
     "name": "stdout",
     "output_type": "stream",
     "text": [
      "this is my parent class\n"
     ]
    }
   ],
   "source": [
    "obj_B.parent_A()"
   ]
  },
  {
   "cell_type": "code",
   "execution_count": null,
   "id": "1f3f4c47-ce42-4fd0-8f6d-7f1dc8cba977",
   "metadata": {},
   "outputs": [],
   "source": []
  }
 ],
 "metadata": {
  "kernelspec": {
   "display_name": "Python 3 (ipykernel)",
   "language": "python",
   "name": "python3"
  },
  "language_info": {
   "codemirror_mode": {
    "name": "ipython",
    "version": 3
   },
   "file_extension": ".py",
   "mimetype": "text/x-python",
   "name": "python",
   "nbconvert_exporter": "python",
   "pygments_lexer": "ipython3",
   "version": "3.10.8"
  }
 },
 "nbformat": 4,
 "nbformat_minor": 5
}
